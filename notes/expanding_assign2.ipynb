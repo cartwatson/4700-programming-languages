{
  "cells": [
    {
      "cell_type": "code",
      "execution_count": null,
      "metadata": {
        "id": "I1LrKz9I2r1t"
      },
      "outputs": [
        {
          "ename": "",
          "evalue": "",
          "output_type": "error",
          "traceback": [
            "\u001b[1;31mRunning cells with 'c:\\Users\\Carter Watson\\AppData\\Local\\Microsoft\\WindowsApps\\python3.10.exe' requires ipykernel package.\n",
            "\u001b[1;31mRun the following command to install 'ipykernel' into the Python environment. \n",
            "\u001b[1;31mCommand: '\"c:/Users/Carter Watson/AppData/Local/Microsoft/WindowsApps/python3.10.exe\" -m pip install ipykernel -U --user --force-reinstall'"
          ]
        }
      ],
      "source": [
        "# <exp> ::= 0 | 1 | 2\n",
        "# <exp> ::= '👍' | '👎'\n",
        "# <exp> ::= (<Operator> <exp> <exp>)\n",
        "# <exp> ::= ('|' <exp> <exp) | ('&' <exp> <exp>) | ('❗' <exp>)\n",
        "# <numericalOperator> ::= '+' | '-' | '*' | '/'\n",
        "# <booleanOperator> ::= '|' | '&' | '❗' "
      ]
    },
    {
      "cell_type": "code",
      "execution_count": null,
      "metadata": {
        "id": "FgUwmLebsbid"
      },
      "outputs": [
        {
          "ename": "",
          "evalue": "",
          "output_type": "error",
          "traceback": [
            "\u001b[1;31mRunning cells with 'c:\\Users\\Carter Watson\\AppData\\Local\\Microsoft\\WindowsApps\\python3.10.exe' requires ipykernel package.\n",
            "\u001b[1;31mRun the following command to install 'ipykernel' into the Python environment. \n",
            "\u001b[1;31mCommand: '\"c:/Users/Carter Watson/AppData/Local/Microsoft/WindowsApps/python3.10.exe\" -m pip install ipykernel -U --user --force-reinstall'"
          ]
        }
      ],
      "source": [
        "import random\n",
        "\n",
        "def tokenize(string):\n",
        "  #inputs a string containing a Delta expression\n",
        "  #returns a list of atoms of the language\n",
        "  return string.replace('(', ' ( ').replace(')', ' )').split()\n",
        "\n",
        "def parse(tokenList):\n",
        "  #inputs a list of tokens\n",
        "  #returns a parse tree, represented as a nested list structure\n",
        "  token = tokenList.pop(0)\n",
        "  if token[0].isdigit():\n",
        "    return int(token)\n",
        "  # just a terminal\n",
        "  if token[0] != '(':\n",
        "    return token\n",
        "  #  <exp> can be (<operator> <exp>) or (<operator> <exp> <exp>) or (<operator> followed by any number of expressions\n",
        "  ans = [tokenList.pop(0)]\n",
        "  while tokenList[0] != ')':\n",
        "    ans.append(parse(tokenList)) \n",
        "  tokenList.pop(0) # to get rid of the ')'\n",
        "  return ans\n",
        "\n",
        "# print(parse(tokenize(deltaCode)))\n",
        "\n",
        "#check that the parentheses balance\n",
        "def balanced(tokenList):\n",
        "  count = 0\n",
        "  for token in tokenList:\n",
        "    if token == '(':\n",
        "      count+= 1\n",
        "    if token == ')':\n",
        "      count-= 1\n",
        "    if count < 0:\n",
        "      return False\n",
        "  return count == 0\n",
        "\n",
        "# print(balanced(tokenize(deltaCode)))\n",
        "\n",
        "def prettyPrint(exp, depth = 0):\n",
        "  if isinstance(exp,int):\n",
        "    print(\" \"*3*depth + str(exp))\n",
        "  else:\n",
        "    print(\" \"*3*depth + \"(\" + str(exp[0]))\n",
        "    prettyPrint(exp[1], depth+1)\n",
        "    prettyPrint(exp[2], depth+1)\n",
        "    print(\" \"*3*depth + \")\")\n",
        "\n",
        "# prettyPrint(parse(tokenize(deltaCode)))\n",
        "\n",
        "def run(program):\n",
        "  # input string, output the execution of the Delta program\n",
        "  expressionList = parse(tokenize(\"(\" + program + \")\"))\n",
        "  for expression in expressionList:\n",
        "    print(evalDelta(expression))\n",
        "\n",
        "def evalDelta(exp):\n",
        "  if isinstance(exp, int):\n",
        "    return exp\n",
        "  if exp == '👍':\n",
        "    return True\n",
        "  if exp == '👎':\n",
        "    return False\n",
        "  if exp[0] == '❗':\n",
        "    return not evalDelta(exp[1])\n",
        "  if exp[0] == '|':\n",
        "    return evalDelta(exp[1]) or evalDelta(exp[2])\n",
        "  if exp[0] == '&':\n",
        "    return evalDelta(exp[1]) and evalDelta(exp[2])\n",
        "  #know [<operator> <exp> <exp>]\n",
        "  if exp[0] == '+':\n",
        "    return evalDelta(exp[1]) + evalDelta(exp[2])\n",
        "  if exp[0] == '-':\n",
        "    return evalDelta(exp[1]) - evalDelta(exp[2])\n",
        "  if exp[0] == '/':\n",
        "    return evalDelta(exp[1]) // evalDelta(exp[2])\n",
        "  if exp[0] == '*':\n",
        "    return evalDelta(exp[1]) * evalDelta(exp[2])\n",
        "  if exp[0] == '==':\n",
        "    return '👍' if evalDelta(exp[1]) == evalDelta(exp[2]) else '👎'\n",
        "  if exp[0] == '<':\n",
        "    return '👍' if evalDelta(exp[1]) < evalDelta(exp[2]) else '👎'\n",
        "  if exp[0] == 'if':\n",
        "    # try block for catching nested conditionals\n",
        "    if evalDelta(exp[1]):\n",
        "      try:\n",
        "        return evalDelta(exp[2])\n",
        "      except:\n",
        "        return '👍'\n",
        "    else:\n",
        "      try:\n",
        "        return evalDelta(exp[3])\n",
        "      except:\n",
        "        return '👎'\n",
        "\n",
        "# random program genereator\n",
        "def randPG(programType):\n",
        "  if programType == \"boolean\":\n",
        "    return generateBoolean()\n",
        "  elif programType == \"numerical\":\n",
        "    return \"(\" + generateOperator(\"numerical\") + \" \" + generateExp(\"numerical\") + \" \" + generateExp(\"numerical\") + \")\"\n",
        "  elif programType == \"conditional\":\n",
        "    return \"(if \" + randPG(\"boolean\") + \" \" + randPG(\"numerical\") + \" \" + randPG(\"numerical\") + \") \"\n",
        "  else:\n",
        "    return \"ERROR: INVALID PROGRAM TYPE REQUESTED\"\n",
        "\n",
        "def generateBoolean():\n",
        "  operator = generateOperator(\"boolean\")\n",
        "  output = \"(\" + operator + \" \"\n",
        "  if operator in [\"<\"]: # List of all boolean binary operators that compare numbers \n",
        "    output += generateExp(\"numerical\") + \" \" + generateExp(\"numerical\")\n",
        "  else:\n",
        "    output += generateExp(\"boolean\")\n",
        "    if operator not in  [\"❗\"]: # List of all boolean unary operators\n",
        "      output +=  \" \" + generateExp(\"boolean\")\n",
        "  return output + \")\"\n",
        "\n",
        "def generateExp(expType):\n",
        "  if random.random() < 0.75: # arbitrary numbers, determines how often exp are recursive 0.75 = 75% of the time the call is non recursive\n",
        "    # recursive call for more exp\n",
        "    if expType == \"numerical\":\n",
        "      return randPG(\"numerical\")\n",
        "    elif expType == \"boolean\":\n",
        "      return randPG(\"boolean\")\n",
        "  else:\n",
        "    # non recursive call, returns a value\n",
        "    if expType == \"numerical\":\n",
        "      return str(random.randint(0, 1000)) # Arbitrary numbers, chose small numbers to increase readability\n",
        "    elif expType == \"boolean\":\n",
        "      return '👍' if random.choice([True, False]) else '👎'\n",
        "\n",
        "def generateOperator(expType):\n",
        "  if expType == \"numerical\":\n",
        "    return random.choice([\"+\", \"-\", \"*\", \"/\"]) # Numerical Operators\n",
        "  elif expType == \"boolean\":\n",
        "    return random.choice([\"==\", \"<\", \"|\", \"&\", \"❗\"]) # Boolean Operators\n"
      ]
    },
    {
      "cell_type": "code",
      "execution_count": null,
      "metadata": {
        "colab": {
          "base_uri": "https://localhost:8080/"
        },
        "id": "j-ErcWGv2DbN",
        "outputId": "aa31f9ed-55cf-45d0-d137-44c8a73d03f6"
      },
      "outputs": [
        {
          "ename": "",
          "evalue": "",
          "output_type": "error",
          "traceback": [
            "\u001b[1;31mRunning cells with 'c:\\Users\\Carter Watson\\AppData\\Local\\Microsoft\\WindowsApps\\python3.10.exe' requires ipykernel package.\n",
            "\u001b[1;31mRun the following command to install 'ipykernel' into the Python environment. \n",
            "\u001b[1;31mCommand: '\"c:/Users/Carter Watson/AppData/Local/Microsoft/WindowsApps/python3.10.exe\" -m pip install ipykernel -U --user --force-reinstall'"
          ]
        }
      ],
      "source": [
        "print(\"examples of '==' '<' and 'if\")\n",
        "print(\"(== 👍 1):\\t\" + run(\"(== 👍 1)\"))\n",
        "print(\"(== 0 0):\\t\" + run(\"(== 0 0)\"))\n",
        "print(\"(< 79 80):\\t\" + run(\"(< 79 80)\"))\n",
        "print(\"(< 81 80):\\t\" + run(\"(< 81 80)\"))\n",
        "print(\"(< 80 80):\\t\" + run(\"(< 80 80)\"))\n",
        "print(\"(if (< 81 80) 4 5):\\t\" + str(run(\"(if (< 81 80) 4 5)\")))\n",
        "print(\"(if (== 80 80) 4 5):\\t\" + str(run(\"(if (== 80 80) 4 5)\")))\n",
        "\n",
        "print(\"\\nexamples of randPG\")\n",
        "print(randPG(\"numerical\"))\n",
        "print(randPG(\"boolean\"))\n",
        "print(randPG(\"conditional\"))"
      ]
    }
  ],
  "metadata": {
    "colab": {
      "provenance": []
    },
    "kernelspec": {
      "display_name": "Python 3",
      "language": "python",
      "name": "python3"
    },
    "language_info": {
      "codemirror_mode": {
        "name": "ipython",
        "version": 3
      },
      "file_extension": ".py",
      "mimetype": "text/x-python",
      "name": "python",
      "nbconvert_exporter": "python",
      "pygments_lexer": "ipython3",
      "version": "3.10.9 (tags/v3.10.9:1dd9be6, Dec  6 2022, 20:01:21) [MSC v.1934 64 bit (AMD64)]"
    },
    "vscode": {
      "interpreter": {
        "hash": "44f0deea73c6cf7876a2163e761466d4a3bdf107a32149acb0f995040b1caf12"
      }
    }
  },
  "nbformat": 4,
  "nbformat_minor": 0
}
